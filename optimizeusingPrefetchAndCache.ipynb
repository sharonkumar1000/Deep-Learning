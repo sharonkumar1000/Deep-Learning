{
  "nbformat": 4,
  "nbformat_minor": 0,
  "metadata": {
    "colab": {
      "provenance": []
    },
    "kernelspec": {
      "name": "python3",
      "display_name": "Python 3"
    },
    "language_info": {
      "name": "python"
    }
  },
  "cells": [
    {
      "cell_type": "markdown",
      "source": [
        "Optimize tensorflow pipeline performance with prefetch and caching"
      ],
      "metadata": {
        "id": "WxldjW-EPwz-"
      }
    },
    {
      "cell_type": "code",
      "execution_count": 1,
      "metadata": {
        "id": "MKqKOb7cPnuX"
      },
      "outputs": [],
      "source": [
        "import tensorflow as tf\n",
        "import time"
      ]
    },
    {
      "cell_type": "code",
      "source": [
        "tf.__version__"
      ],
      "metadata": {
        "colab": {
          "base_uri": "https://localhost:8080/",
          "height": 36
        },
        "id": "ydZd9gpuP0Qh",
        "outputId": "aa35131a-6d52-47c7-81ca-f32f41a4b242"
      },
      "execution_count": 2,
      "outputs": [
        {
          "output_type": "execute_result",
          "data": {
            "text/plain": [
              "'2.17.0'"
            ],
            "application/vnd.google.colaboratory.intrinsic+json": {
              "type": "string"
            }
          },
          "metadata": {},
          "execution_count": 2
        }
      ]
    },
    {
      "cell_type": "code",
      "source": [
        "class FileDataset(tf.data.Dataset):\n",
        "    def read_file_in_batches(num_samples):\n",
        "        # Opening the file\n",
        "        time.sleep(0.03)\n",
        "\n",
        "        for sample_idx in range(num_samples):\n",
        "            # Reading data (line, record) from the file\n",
        "            time.sleep(0.015)\n",
        "\n",
        "            yield (sample_idx,)\n",
        "\n",
        "    def __new__(cls, num_samples=3):\n",
        "        return tf.data.Dataset.from_generator(\n",
        "            cls.read_file_in_batches,\n",
        "            output_signature = tf.TensorSpec(shape = (1,), dtype = tf.int64),\n",
        "            args=(num_samples,)\n",
        "        )"
      ],
      "metadata": {
        "id": "ugqO2DE4P5O7"
      },
      "execution_count": 3,
      "outputs": []
    },
    {
      "cell_type": "code",
      "source": [
        "def benchmark(dataset, num_epochs=2):\n",
        "    for epoch_num in range(num_epochs):\n",
        "        for sample in dataset:\n",
        "            # Performing a training step\n",
        "            time.sleep(0.01)"
      ],
      "metadata": {
        "id": "5XpvpkHXP69u"
      },
      "execution_count": 4,
      "outputs": []
    },
    {
      "cell_type": "code",
      "source": [
        "%%timeit\n",
        "benchmark(FileDataset())"
      ],
      "metadata": {
        "colab": {
          "base_uri": "https://localhost:8080/"
        },
        "id": "d-97OwfNP8qK",
        "outputId": "ee1a8c78-bb37-430e-996b-1ecf55fa47b8"
      },
      "execution_count": 5,
      "outputs": [
        {
          "output_type": "stream",
          "name": "stdout",
          "text": [
            "278 ms ± 20.5 ms per loop (mean ± std. dev. of 7 runs, 1 loop each)\n"
          ]
        }
      ]
    },
    {
      "cell_type": "code",
      "source": [
        "%%timeit\n",
        "benchmark(FileDataset().prefetch(1))"
      ],
      "metadata": {
        "colab": {
          "base_uri": "https://localhost:8080/"
        },
        "id": "F7nx3oc1P-F-",
        "outputId": "d30abd8b-1887-4264-f364-ba7194ab49aa"
      },
      "execution_count": 6,
      "outputs": [
        {
          "output_type": "stream",
          "name": "stdout",
          "text": [
            "281 ms ± 21.9 ms per loop (mean ± std. dev. of 7 runs, 1 loop each)\n"
          ]
        }
      ]
    },
    {
      "cell_type": "code",
      "source": [
        "%%timeit\n",
        "benchmark(FileDataset().prefetch(tf.data.AUTOTUNE))"
      ],
      "metadata": {
        "colab": {
          "base_uri": "https://localhost:8080/"
        },
        "id": "63fbYwggQAO2",
        "outputId": "356f4964-d072-4b56-d91b-2500109dc5da"
      },
      "execution_count": 7,
      "outputs": [
        {
          "output_type": "stream",
          "name": "stdout",
          "text": [
            "296 ms ± 10.8 ms per loop (mean ± std. dev. of 7 runs, 1 loop each)\n"
          ]
        }
      ]
    },
    {
      "cell_type": "markdown",
      "source": [
        "As you can notice above, using prefetch improves the performance from 304 ms to 238 and 240 ms\n",
        "\n",
        "Cache"
      ],
      "metadata": {
        "id": "o4HXlPhXQGNq"
      }
    },
    {
      "cell_type": "code",
      "source": [
        "dataset = tf.data.Dataset.range(5)\n",
        "dataset = dataset.map(lambda x: x**2)\n",
        "dataset = dataset.cache(\"mycache.txt\")\n",
        "# The first time reading through the data will generate the data using\n",
        "# `range` and `map`.\n",
        "list(dataset.as_numpy_iterator())"
      ],
      "metadata": {
        "colab": {
          "base_uri": "https://localhost:8080/"
        },
        "id": "ZYeo7HxDQCUo",
        "outputId": "51ab3a77-13aa-498f-aeb9-a2f1f7ec5dff"
      },
      "execution_count": 8,
      "outputs": [
        {
          "output_type": "execute_result",
          "data": {
            "text/plain": [
              "[0, 1, 4, 9, 16]"
            ]
          },
          "metadata": {},
          "execution_count": 8
        }
      ]
    },
    {
      "cell_type": "code",
      "source": [
        "# Subsequent iterations read from the cache.\n",
        "list(dataset.as_numpy_iterator())"
      ],
      "metadata": {
        "colab": {
          "base_uri": "https://localhost:8080/"
        },
        "id": "LxF5gMZqQH-n",
        "outputId": "0971e4e5-c81e-4c47-dc41-376f7b2bc949"
      },
      "execution_count": 9,
      "outputs": [
        {
          "output_type": "execute_result",
          "data": {
            "text/plain": [
              "[0, 1, 4, 9, 16]"
            ]
          },
          "metadata": {},
          "execution_count": 9
        }
      ]
    },
    {
      "cell_type": "code",
      "source": [
        "def mapped_function(s):\n",
        "    # Do some hard pre-processing\n",
        "    tf.py_function(lambda: time.sleep(0.03), [], ())\n",
        "    return s"
      ],
      "metadata": {
        "id": "kROHOHuaQJs8"
      },
      "execution_count": 10,
      "outputs": []
    },
    {
      "cell_type": "code",
      "source": [
        "%%timeit -r1 -n1\n",
        "benchmark(FileDataset().map(mapped_function), 5)"
      ],
      "metadata": {
        "colab": {
          "base_uri": "https://localhost:8080/"
        },
        "id": "1jPrGrxQQLX3",
        "outputId": "1623c397-590d-43dd-b52f-aa246b731319"
      },
      "execution_count": 11,
      "outputs": [
        {
          "output_type": "stream",
          "name": "stdout",
          "text": [
            "1.43 s ± 0 ns per loop (mean ± std. dev. of 1 run, 1 loop each)\n"
          ]
        }
      ]
    },
    {
      "cell_type": "code",
      "source": [
        "%%timeit -r1 -n1\n",
        "benchmark(FileDataset().map(mapped_function).cache(), 5)"
      ],
      "metadata": {
        "colab": {
          "base_uri": "https://localhost:8080/"
        },
        "id": "hCymW9p3QNU5",
        "outputId": "08d25b33-06ff-4493-cecf-f0a48e975df9"
      },
      "execution_count": 12,
      "outputs": [
        {
          "output_type": "stream",
          "name": "stdout",
          "text": [
            "633 ms ± 0 ns per loop (mean ± std. dev. of 1 run, 1 loop each)\n"
          ]
        }
      ]
    },
    {
      "cell_type": "code",
      "source": [],
      "metadata": {
        "id": "uBlgqp8-QQ4g"
      },
      "execution_count": null,
      "outputs": []
    }
  ]
}